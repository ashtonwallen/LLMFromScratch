{
 "cells": [
  {
   "cell_type": "code",
   "execution_count": 3,
   "metadata": {},
   "outputs": [],
   "source": [
    "import torch"
   ]
  },
  {
   "cell_type": "code",
   "execution_count": 4,
   "metadata": {},
   "outputs": [],
   "source": [
    "with open(\"infinite_jest.txt\", 'r', encoding='utf-8') as f:\n",
    "    text = f.read()\n",
    "chars = sorted(set(text))\n",
    "vocabulary_size = len(chars)"
   ]
  },
  {
   "cell_type": "code",
   "execution_count": 6,
   "metadata": {
    "scrolled": true
   },
   "outputs": [
    {
     "name": "stdout",
     "output_type": "stream",
     "text": [
      "tensor([104,  26,  31,  24,  39,  43,  28,  41,   1,  32,   0,   0, 102,  46,\n",
      "         54,  61,  61,   6,   1,  39,  67,  58,  63,  52,  54,   6,   1,  68,\n",
      "         64,   1,  30,  54,  63,  64,  50,   1,  50,  63,  53,   1,  35,  70,\n",
      "         52,  52,  50,   1,  50,  67,  54,   1,  63,  64,  72,   1,  59,  70,\n",
      "         68,  69,   1,  55,  50,  62,  58,  61,  74,   1,  54,  68,  69,  50,\n",
      "         69,  54,  68,   1,  64,  55,   1,  69,  57,  54,   0,  25,  70,  64,\n",
      "         63,  50,  65,  50,  67,  69,  54,  68,   8,   1,  25,  70,  69,   1,\n",
      "         32,   1])\n"
     ]
    }
   ],
   "source": [
    "string_to_int = {ch:i for i,ch in enumerate(chars)}\n",
    "int_to_string = {i:ch for i,ch in enumerate(chars)}\n",
    "encode = lambda s: [string_to_int[c] for c in s]\n",
    "decode = lambda l: ''.join([int_to_string[i] for i in l])\n",
    "\n",
    "data = torch.tensor(encode(text), dtype=torch.long)\n",
    "print(data[:100])"
   ]
  },
  {
   "cell_type": "code",
   "execution_count": 9,
   "metadata": {},
   "outputs": [],
   "source": [
    "n = int(0.8*len(data))\n",
    "train_data = data[:n]\n",
    "val_data = data[n:]"
   ]
  },
  {
   "cell_type": "code",
   "execution_count": 10,
   "metadata": {},
   "outputs": [
    {
     "name": "stdout",
     "output_type": "stream",
     "text": [
      "when input is tensor([104]) target is tensor(26)\n",
      "when input is tensor([104,  26]) target is tensor(31)\n",
      "when input is tensor([104,  26,  31]) target is tensor(24)\n",
      "when input is tensor([104,  26,  31,  24]) target is tensor(39)\n",
      "when input is tensor([104,  26,  31,  24,  39]) target is tensor(43)\n",
      "when input is tensor([104,  26,  31,  24,  39,  43]) target is tensor(28)\n",
      "when input is tensor([104,  26,  31,  24,  39,  43,  28]) target is tensor(41)\n",
      "when input is tensor([104,  26,  31,  24,  39,  43,  28,  41]) target is tensor(1)\n"
     ]
    }
   ],
   "source": [
    "block_size = 8\n",
    "\n",
    "x = train_data[:block_size]\n",
    "y = train_data[1:block_size+1]\n",
    "\n",
    "for t in range(block_size):\n",
    "    context = x[:t+1]\n",
    "    target = y[t]\n",
    "    print('when input is', context, 'target is', target)"
   ]
  },
  {
   "cell_type": "code",
   "execution_count": null,
   "metadata": {},
   "outputs": [],
   "source": []
  }
 ],
 "metadata": {
  "kernelspec": {
   "display_name": "AshGPT",
   "language": "python",
   "name": "cuda"
  },
  "language_info": {
   "codemirror_mode": {
    "name": "ipython",
    "version": 3
   },
   "file_extension": ".py",
   "mimetype": "text/x-python",
   "name": "python",
   "nbconvert_exporter": "python",
   "pygments_lexer": "ipython3",
   "version": "3.11.5"
  }
 },
 "nbformat": 4,
 "nbformat_minor": 4
}
